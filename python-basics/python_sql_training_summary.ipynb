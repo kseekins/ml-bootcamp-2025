{
 "cells": [
  {
   "cell_type": "code",
   "execution_count": 3,
   "id": "d1543d2b-9529-40dd-992e-00b38d735806",
   "metadata": {},
   "outputs": [
    {
     "name": "stdout",
     "output_type": "stream",
     "text": [
      "This is a summary of my python and sql review.\n",
      "パイソンとSQLの復習記録です。\n"
     ]
    }
   ],
   "source": [
    "import pandas as pd\n",
    "import numpy as np\n",
    "\n",
    "print(\"This is a summary of my python and sql review.\")\n",
    "print(\"パイソンとSQLの復習記録です。\")\n",
    "\n"
   ]
  },
  {
   "cell_type": "code",
   "execution_count": null,
   "id": "3131348e-8d11-43be-b217-5fbd27c0dfe6",
   "metadata": {},
   "outputs": [],
   "source": [
    "# Day 1 (Sep 14) – Python Refresh\n",
    "## Lesson 1 Highlights\n",
    "- Variables\n",
    "- Basic Operations\n",
    "## Lesson 2 Highlights\n",
    "- Funtions\n",
    "- Higher Order Functions \n",
    "\n",
    "# 第1日目（9月14日）– Python復習\n",
    "## レッスン1 ハイライト\n",
    "- 変数\n",
    "- 基本的な演算\n",
    "## レッスン2 ハイライト\n",
    "- 関数\n",
    "- 高階関数\n",
    "\n"
   ]
  }
 ],
 "metadata": {
  "kernelspec": {
   "display_name": "Python 3 (ipykernel)",
   "language": "python",
   "name": "python3"
  },
  "language_info": {
   "codemirror_mode": {
    "name": "ipython",
    "version": 3
   },
   "file_extension": ".py",
   "mimetype": "text/x-python",
   "name": "python",
   "nbconvert_exporter": "python",
   "pygments_lexer": "ipython3",
   "version": "3.12.4"
  }
 },
 "nbformat": 4,
 "nbformat_minor": 5
}
